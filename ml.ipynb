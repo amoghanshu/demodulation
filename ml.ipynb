{
 "cells": [
  {
   "cell_type": "code",
   "execution_count": 1,
   "id": "initial_id",
   "metadata": {
    "collapsed": true,
    "ExecuteTime": {
     "end_time": "2024-03-21T04:26:29.278074Z",
     "start_time": "2024-03-21T04:26:27.246901Z"
    }
   },
   "outputs": [],
   "source": [
    "import pandas as pd\n",
    "import numpy as np\n",
    "from sklearn.model_selection import train_test_split\n",
    "from sklearn.preprocessing import StandardScaler\n",
    "from sklearn.metrics import accuracy_score\n",
    "from sklearn.ensemble import RandomForestClassifier\n",
    "from sklearn.model_selection import GridSearchCV\n",
    "from sklearn.metrics import classification_report\n",
    "from sklearn.linear_model import LogisticRegression\n",
    "from sklearn.svm import SVC\n",
    "from sklearn.tree import DecisionTreeClassifier\n",
    "from sklearn.ensemble import GradientBoostingClassifier\n",
    "from sklearn.ensemble import AdaBoostClassifier\n",
    "from sklearn.ensemble import BaggingClassifier\n",
    "from sklearn.ensemble import VotingClassifier\n",
    "from sklearn.neighbors import KNeighborsClassifier\n",
    "from sklearn.naive_bayes import GaussianNB"
   ]
  },
  {
   "cell_type": "code",
   "outputs": [],
   "source": [
    "data1=pd.read_csv('syntehtic_modulation.csv')\n",
    "data2=pd.read_csv('syntehtic_modulation_2.csv')"
   ],
   "metadata": {
    "collapsed": false,
    "ExecuteTime": {
     "end_time": "2024-03-21T04:28:18.623439Z",
     "start_time": "2024-03-21T04:28:18.592508Z"
    }
   },
   "id": "62992adf9b5b0eed",
   "execution_count": 2
  },
  {
   "cell_type": "markdown",
   "source": [],
   "metadata": {
    "collapsed": false
   },
   "id": "e07f4ade00d894af"
  },
  {
   "cell_type": "code",
   "outputs": [],
   "source": [
    "data1=data1._append(data2)"
   ],
   "metadata": {
    "collapsed": false,
    "ExecuteTime": {
     "end_time": "2024-03-21T04:28:20.199446Z",
     "start_time": "2024-03-21T04:28:20.196560Z"
    }
   },
   "id": "a43ec93f1b1e9e1c",
   "execution_count": 3
  },
  {
   "cell_type": "code",
   "outputs": [
    {
     "data": {
      "text/plain": "   Unnamed: 0    i_mean    q_mean  i_variance  q_variance  \\\n0           0  0.000050  0.000059    1.009886    1.009904   \n1           1  0.000182  0.000081    1.009496    1.009579   \n2           2 -0.000070  0.000130    1.000160    0.999900   \n3           3  0.000031  0.000177    1.000028    0.999396   \n4           4 -0.000092  0.000037    1.010393    1.010119   \n\n                                          i_skewness  \\\n0  [-0.08780708  0.15823485  0.15146467 ...  0.08...   \n1  [-0.1864965   0.28485827 -0.13156292 ...  0.07...   \n2  [-0.08879619  0.04034391 -0.00909573 ...  0.08...   \n3  [-0.0733531  -0.32618086 -0.02681192 ... -0.12...   \n4  [-0.0654005  -0.15682191 -0.03443514 ... -0.20...   \n\n                                          q_skewness    i_psd_mean  \\\n0  [ 0.1721656  -0.16484778  0.06821927 ... -0.20...  5.016558e-11   \n1  [-0.0735708   0.07170763  0.83116406 ...  0.19...  5.013778e-11   \n2  [-0.02614334  0.05078465  0.14986583 ...  0.02...  4.975196e-11   \n3  [ 0.23452564  0.14277558  0.19143163 ... -0.03...  4.974477e-11   \n4  [-0.31560314  0.18025404 -0.04318492 ...  0.07...  5.018766e-11   \n\n   i_psd_varience    q_psd_mean  ...  Q_complexity_index I_iqr_value  \\\n0    9.418714e-20  5.015982e-11  ...           21.465219    1.355673   \n1    9.410379e-20  5.016071e-11  ...           20.484843    1.355622   \n2    9.283592e-20  4.973674e-11  ...           21.481320    1.349353   \n3    9.275546e-20  4.970812e-11  ...           20.484913    1.349306   \n4    9.423878e-20  5.017030e-11  ...           21.476491    1.355139   \n\n  Q_iqr_value  I_peak_power  Q_peak_power I_average_power Q_average_power  \\\n0    1.356160     28.598828     30.020783        1.009886        1.009904   \n1    1.355819     29.898558     33.390385        1.009496        1.009579   \n2    1.348800     33.950367     29.082171        1.000160        0.999900   \n3    1.348291     32.493441     28.426347        1.000028        0.999396   \n4    1.355503     30.801433     29.029438        1.010393        1.010119   \n\n      I_papr     Q_papr  modulation  \n0  28.318873  29.726360        BPSK  \n1  29.617317  33.073582        QPSK  \n2  33.944938  29.085069        BPSK  \n3  32.492531  28.443521        QPSK  \n4  30.484616  28.738635        BPSK  \n\n[5 rows x 30 columns]",
      "text/html": "<div>\n<style scoped>\n    .dataframe tbody tr th:only-of-type {\n        vertical-align: middle;\n    }\n\n    .dataframe tbody tr th {\n        vertical-align: top;\n    }\n\n    .dataframe thead th {\n        text-align: right;\n    }\n</style>\n<table border=\"1\" class=\"dataframe\">\n  <thead>\n    <tr style=\"text-align: right;\">\n      <th></th>\n      <th>Unnamed: 0</th>\n      <th>i_mean</th>\n      <th>q_mean</th>\n      <th>i_variance</th>\n      <th>q_variance</th>\n      <th>i_skewness</th>\n      <th>q_skewness</th>\n      <th>i_psd_mean</th>\n      <th>i_psd_varience</th>\n      <th>q_psd_mean</th>\n      <th>...</th>\n      <th>Q_complexity_index</th>\n      <th>I_iqr_value</th>\n      <th>Q_iqr_value</th>\n      <th>I_peak_power</th>\n      <th>Q_peak_power</th>\n      <th>I_average_power</th>\n      <th>Q_average_power</th>\n      <th>I_papr</th>\n      <th>Q_papr</th>\n      <th>modulation</th>\n    </tr>\n  </thead>\n  <tbody>\n    <tr>\n      <th>0</th>\n      <td>0</td>\n      <td>0.000050</td>\n      <td>0.000059</td>\n      <td>1.009886</td>\n      <td>1.009904</td>\n      <td>[-0.08780708  0.15823485  0.15146467 ...  0.08...</td>\n      <td>[ 0.1721656  -0.16484778  0.06821927 ... -0.20...</td>\n      <td>5.016558e-11</td>\n      <td>9.418714e-20</td>\n      <td>5.015982e-11</td>\n      <td>...</td>\n      <td>21.465219</td>\n      <td>1.355673</td>\n      <td>1.356160</td>\n      <td>28.598828</td>\n      <td>30.020783</td>\n      <td>1.009886</td>\n      <td>1.009904</td>\n      <td>28.318873</td>\n      <td>29.726360</td>\n      <td>BPSK</td>\n    </tr>\n    <tr>\n      <th>1</th>\n      <td>1</td>\n      <td>0.000182</td>\n      <td>0.000081</td>\n      <td>1.009496</td>\n      <td>1.009579</td>\n      <td>[-0.1864965   0.28485827 -0.13156292 ...  0.07...</td>\n      <td>[-0.0735708   0.07170763  0.83116406 ...  0.19...</td>\n      <td>5.013778e-11</td>\n      <td>9.410379e-20</td>\n      <td>5.016071e-11</td>\n      <td>...</td>\n      <td>20.484843</td>\n      <td>1.355622</td>\n      <td>1.355819</td>\n      <td>29.898558</td>\n      <td>33.390385</td>\n      <td>1.009496</td>\n      <td>1.009579</td>\n      <td>29.617317</td>\n      <td>33.073582</td>\n      <td>QPSK</td>\n    </tr>\n    <tr>\n      <th>2</th>\n      <td>2</td>\n      <td>-0.000070</td>\n      <td>0.000130</td>\n      <td>1.000160</td>\n      <td>0.999900</td>\n      <td>[-0.08879619  0.04034391 -0.00909573 ...  0.08...</td>\n      <td>[-0.02614334  0.05078465  0.14986583 ...  0.02...</td>\n      <td>4.975196e-11</td>\n      <td>9.283592e-20</td>\n      <td>4.973674e-11</td>\n      <td>...</td>\n      <td>21.481320</td>\n      <td>1.349353</td>\n      <td>1.348800</td>\n      <td>33.950367</td>\n      <td>29.082171</td>\n      <td>1.000160</td>\n      <td>0.999900</td>\n      <td>33.944938</td>\n      <td>29.085069</td>\n      <td>BPSK</td>\n    </tr>\n    <tr>\n      <th>3</th>\n      <td>3</td>\n      <td>0.000031</td>\n      <td>0.000177</td>\n      <td>1.000028</td>\n      <td>0.999396</td>\n      <td>[-0.0733531  -0.32618086 -0.02681192 ... -0.12...</td>\n      <td>[ 0.23452564  0.14277558  0.19143163 ... -0.03...</td>\n      <td>4.974477e-11</td>\n      <td>9.275546e-20</td>\n      <td>4.970812e-11</td>\n      <td>...</td>\n      <td>20.484913</td>\n      <td>1.349306</td>\n      <td>1.348291</td>\n      <td>32.493441</td>\n      <td>28.426347</td>\n      <td>1.000028</td>\n      <td>0.999396</td>\n      <td>32.492531</td>\n      <td>28.443521</td>\n      <td>QPSK</td>\n    </tr>\n    <tr>\n      <th>4</th>\n      <td>4</td>\n      <td>-0.000092</td>\n      <td>0.000037</td>\n      <td>1.010393</td>\n      <td>1.010119</td>\n      <td>[-0.0654005  -0.15682191 -0.03443514 ... -0.20...</td>\n      <td>[-0.31560314  0.18025404 -0.04318492 ...  0.07...</td>\n      <td>5.018766e-11</td>\n      <td>9.423878e-20</td>\n      <td>5.017030e-11</td>\n      <td>...</td>\n      <td>21.476491</td>\n      <td>1.355139</td>\n      <td>1.355503</td>\n      <td>30.801433</td>\n      <td>29.029438</td>\n      <td>1.010393</td>\n      <td>1.010119</td>\n      <td>30.484616</td>\n      <td>28.738635</td>\n      <td>BPSK</td>\n    </tr>\n  </tbody>\n</table>\n<p>5 rows × 30 columns</p>\n</div>"
     },
     "execution_count": 4,
     "metadata": {},
     "output_type": "execute_result"
    }
   ],
   "source": [
    "data1.head()"
   ],
   "metadata": {
    "collapsed": false,
    "ExecuteTime": {
     "end_time": "2024-03-21T04:28:20.670930Z",
     "start_time": "2024-03-21T04:28:20.660090Z"
    }
   },
   "id": "1a672d74c0f78e77",
   "execution_count": 4
  },
  {
   "cell_type": "code",
   "outputs": [
    {
     "data": {
      "text/plain": "        Unnamed: 0       i_mean        q_mean   i_variance   q_variance  \\\ncount  3132.000000  3132.000000  3.132000e+03  3132.000000  3132.000000   \nmean    842.639208     0.000003  7.073003e-06     1.015996     1.015977   \nstd     543.155951     0.000189  1.859236e-04     0.030895     0.030914   \nmin       0.000000    -0.000710 -5.921135e-04     0.998449     0.998646   \n25%     391.000000    -0.000119 -1.199870e-04     1.000214     1.000206   \n50%     782.500000     0.000008  6.876348e-07     1.001263     1.001194   \n75%    1216.250000     0.000124  1.256731e-04     1.010291     1.010290   \nmax    1999.000000     0.000708  7.859544e-04     1.101675     1.101646   \n\n         i_psd_mean  i_psd_varience    q_psd_mean  q_psd_varience  \\\ncount  3.132000e+03    3.132000e+03  3.132000e+03    3.132000e+03   \nmean   5.052531e-11    9.249648e-20  5.052442e-11    9.249328e-20   \nstd    1.526664e-12    2.171567e-21  1.527618e-12    2.169861e-21   \nmin    4.955599e-11    8.885019e-20  4.956333e-11    8.899363e-20   \n25%    4.974888e-11    9.122480e-20  4.974886e-11    9.121524e-20   \n50%    4.983754e-11    9.274184e-20  4.983581e-11    9.274113e-20   \n75%    5.028437e-11    9.424862e-20  5.028706e-11    9.424332e-20   \nmax    5.482802e-11    9.578033e-20  5.481472e-11    9.572203e-20   \n\n       I_envelope_mean  ...  I_complexity_index  Q_complexity_index  \\\ncount      3132.000000  ...         3132.000000         3132.000000   \nmean          1.343567  ...           20.997937           20.998128   \nstd           0.013805  ...            0.487724            0.487193   \nmin           1.335377  ...           20.343913           20.368029   \n25%           1.336560  ...           20.514496           20.516112   \n50%           1.337115  ...           20.962154           20.966847   \n75%           1.340985  ...           21.486442           21.488602   \nmax           1.382202  ...           21.575411           21.568845   \n\n       I_iqr_value  Q_iqr_value  I_peak_power  Q_peak_power  I_average_power  \\\ncount  3132.000000  3132.000000   3132.000000   3132.000000      3132.000000   \nmean      1.359567     1.359557     29.341719     29.316942         1.015996   \nstd       0.020355     0.020379      2.758218      2.761543         0.030895   \nmin       1.347219     1.346726     23.232082     22.805974         0.998449   \n25%       1.349114     1.349111     27.374611     27.387553         1.000214   \n50%       1.350001     1.349933     28.943111     28.931693         1.001263   \n75%       1.355956     1.355914     30.919164     30.788776         1.010291   \nmax       1.416490     1.416691     46.108686     45.744275         1.101675   \n\n       Q_average_power       I_papr       Q_papr  \ncount      3132.000000  3132.000000  3132.000000  \nmean          1.015977    28.877987    28.856470  \nstd           0.030914     2.546002     2.578678  \nmin           0.998646    23.242536    22.558152  \n25%           1.000206    27.042747    27.051693  \n50%           1.001194    28.541404    28.498743  \n75%           1.010290    30.203931    30.227377  \nmax           1.101646    41.909564    45.598475  \n\n[8 rows x 23 columns]",
      "text/html": "<div>\n<style scoped>\n    .dataframe tbody tr th:only-of-type {\n        vertical-align: middle;\n    }\n\n    .dataframe tbody tr th {\n        vertical-align: top;\n    }\n\n    .dataframe thead th {\n        text-align: right;\n    }\n</style>\n<table border=\"1\" class=\"dataframe\">\n  <thead>\n    <tr style=\"text-align: right;\">\n      <th></th>\n      <th>Unnamed: 0</th>\n      <th>i_mean</th>\n      <th>q_mean</th>\n      <th>i_variance</th>\n      <th>q_variance</th>\n      <th>i_psd_mean</th>\n      <th>i_psd_varience</th>\n      <th>q_psd_mean</th>\n      <th>q_psd_varience</th>\n      <th>I_envelope_mean</th>\n      <th>...</th>\n      <th>I_complexity_index</th>\n      <th>Q_complexity_index</th>\n      <th>I_iqr_value</th>\n      <th>Q_iqr_value</th>\n      <th>I_peak_power</th>\n      <th>Q_peak_power</th>\n      <th>I_average_power</th>\n      <th>Q_average_power</th>\n      <th>I_papr</th>\n      <th>Q_papr</th>\n    </tr>\n  </thead>\n  <tbody>\n    <tr>\n      <th>count</th>\n      <td>3132.000000</td>\n      <td>3132.000000</td>\n      <td>3.132000e+03</td>\n      <td>3132.000000</td>\n      <td>3132.000000</td>\n      <td>3.132000e+03</td>\n      <td>3.132000e+03</td>\n      <td>3.132000e+03</td>\n      <td>3.132000e+03</td>\n      <td>3132.000000</td>\n      <td>...</td>\n      <td>3132.000000</td>\n      <td>3132.000000</td>\n      <td>3132.000000</td>\n      <td>3132.000000</td>\n      <td>3132.000000</td>\n      <td>3132.000000</td>\n      <td>3132.000000</td>\n      <td>3132.000000</td>\n      <td>3132.000000</td>\n      <td>3132.000000</td>\n    </tr>\n    <tr>\n      <th>mean</th>\n      <td>842.639208</td>\n      <td>0.000003</td>\n      <td>7.073003e-06</td>\n      <td>1.015996</td>\n      <td>1.015977</td>\n      <td>5.052531e-11</td>\n      <td>9.249648e-20</td>\n      <td>5.052442e-11</td>\n      <td>9.249328e-20</td>\n      <td>1.343567</td>\n      <td>...</td>\n      <td>20.997937</td>\n      <td>20.998128</td>\n      <td>1.359567</td>\n      <td>1.359557</td>\n      <td>29.341719</td>\n      <td>29.316942</td>\n      <td>1.015996</td>\n      <td>1.015977</td>\n      <td>28.877987</td>\n      <td>28.856470</td>\n    </tr>\n    <tr>\n      <th>std</th>\n      <td>543.155951</td>\n      <td>0.000189</td>\n      <td>1.859236e-04</td>\n      <td>0.030895</td>\n      <td>0.030914</td>\n      <td>1.526664e-12</td>\n      <td>2.171567e-21</td>\n      <td>1.527618e-12</td>\n      <td>2.169861e-21</td>\n      <td>0.013805</td>\n      <td>...</td>\n      <td>0.487724</td>\n      <td>0.487193</td>\n      <td>0.020355</td>\n      <td>0.020379</td>\n      <td>2.758218</td>\n      <td>2.761543</td>\n      <td>0.030895</td>\n      <td>0.030914</td>\n      <td>2.546002</td>\n      <td>2.578678</td>\n    </tr>\n    <tr>\n      <th>min</th>\n      <td>0.000000</td>\n      <td>-0.000710</td>\n      <td>-5.921135e-04</td>\n      <td>0.998449</td>\n      <td>0.998646</td>\n      <td>4.955599e-11</td>\n      <td>8.885019e-20</td>\n      <td>4.956333e-11</td>\n      <td>8.899363e-20</td>\n      <td>1.335377</td>\n      <td>...</td>\n      <td>20.343913</td>\n      <td>20.368029</td>\n      <td>1.347219</td>\n      <td>1.346726</td>\n      <td>23.232082</td>\n      <td>22.805974</td>\n      <td>0.998449</td>\n      <td>0.998646</td>\n      <td>23.242536</td>\n      <td>22.558152</td>\n    </tr>\n    <tr>\n      <th>25%</th>\n      <td>391.000000</td>\n      <td>-0.000119</td>\n      <td>-1.199870e-04</td>\n      <td>1.000214</td>\n      <td>1.000206</td>\n      <td>4.974888e-11</td>\n      <td>9.122480e-20</td>\n      <td>4.974886e-11</td>\n      <td>9.121524e-20</td>\n      <td>1.336560</td>\n      <td>...</td>\n      <td>20.514496</td>\n      <td>20.516112</td>\n      <td>1.349114</td>\n      <td>1.349111</td>\n      <td>27.374611</td>\n      <td>27.387553</td>\n      <td>1.000214</td>\n      <td>1.000206</td>\n      <td>27.042747</td>\n      <td>27.051693</td>\n    </tr>\n    <tr>\n      <th>50%</th>\n      <td>782.500000</td>\n      <td>0.000008</td>\n      <td>6.876348e-07</td>\n      <td>1.001263</td>\n      <td>1.001194</td>\n      <td>4.983754e-11</td>\n      <td>9.274184e-20</td>\n      <td>4.983581e-11</td>\n      <td>9.274113e-20</td>\n      <td>1.337115</td>\n      <td>...</td>\n      <td>20.962154</td>\n      <td>20.966847</td>\n      <td>1.350001</td>\n      <td>1.349933</td>\n      <td>28.943111</td>\n      <td>28.931693</td>\n      <td>1.001263</td>\n      <td>1.001194</td>\n      <td>28.541404</td>\n      <td>28.498743</td>\n    </tr>\n    <tr>\n      <th>75%</th>\n      <td>1216.250000</td>\n      <td>0.000124</td>\n      <td>1.256731e-04</td>\n      <td>1.010291</td>\n      <td>1.010290</td>\n      <td>5.028437e-11</td>\n      <td>9.424862e-20</td>\n      <td>5.028706e-11</td>\n      <td>9.424332e-20</td>\n      <td>1.340985</td>\n      <td>...</td>\n      <td>21.486442</td>\n      <td>21.488602</td>\n      <td>1.355956</td>\n      <td>1.355914</td>\n      <td>30.919164</td>\n      <td>30.788776</td>\n      <td>1.010291</td>\n      <td>1.010290</td>\n      <td>30.203931</td>\n      <td>30.227377</td>\n    </tr>\n    <tr>\n      <th>max</th>\n      <td>1999.000000</td>\n      <td>0.000708</td>\n      <td>7.859544e-04</td>\n      <td>1.101675</td>\n      <td>1.101646</td>\n      <td>5.482802e-11</td>\n      <td>9.578033e-20</td>\n      <td>5.481472e-11</td>\n      <td>9.572203e-20</td>\n      <td>1.382202</td>\n      <td>...</td>\n      <td>21.575411</td>\n      <td>21.568845</td>\n      <td>1.416490</td>\n      <td>1.416691</td>\n      <td>46.108686</td>\n      <td>45.744275</td>\n      <td>1.101675</td>\n      <td>1.101646</td>\n      <td>41.909564</td>\n      <td>45.598475</td>\n    </tr>\n  </tbody>\n</table>\n<p>8 rows × 23 columns</p>\n</div>"
     },
     "execution_count": 5,
     "metadata": {},
     "output_type": "execute_result"
    }
   ],
   "source": [
    "data1.describe()"
   ],
   "metadata": {
    "collapsed": false,
    "ExecuteTime": {
     "end_time": "2024-03-21T04:28:21.468580Z",
     "start_time": "2024-03-21T04:28:21.440288Z"
    }
   },
   "id": "55266a99498b82d4",
   "execution_count": 5
  },
  {
   "cell_type": "code",
   "outputs": [
    {
     "data": {
      "text/plain": "Unnamed: 0               int64\ni_mean                 float64\nq_mean                 float64\ni_variance             float64\nq_variance             float64\ni_skewness              object\nq_skewness              object\ni_psd_mean             float64\ni_psd_varience         float64\nq_psd_mean             float64\nq_psd_varience         float64\ni_kurt                  object\nq_kurt                  object\nI_envelope_mean        float64\nQ_envelope_mean        float64\nI_zcr                   object\nQ_zcr                   object\nI_fractal_dimension    float64\nQ_fractal_dimension    float64\nI_complexity_index     float64\nQ_complexity_index     float64\nI_iqr_value            float64\nQ_iqr_value            float64\nI_peak_power           float64\nQ_peak_power           float64\nI_average_power        float64\nQ_average_power        float64\nI_papr                 float64\nQ_papr                 float64\nmodulation              object\ndtype: object"
     },
     "execution_count": 6,
     "metadata": {},
     "output_type": "execute_result"
    }
   ],
   "source": [
    "data1.dtypes"
   ],
   "metadata": {
    "collapsed": false,
    "ExecuteTime": {
     "end_time": "2024-03-21T04:28:22.172436Z",
     "start_time": "2024-03-21T04:28:22.166752Z"
    }
   },
   "id": "9ac9ac8114fce59b",
   "execution_count": 6
  },
  {
   "cell_type": "code",
   "outputs": [],
   "source": [
    "X=data1.drop(['modulation','i_skewness','q_skewness','i_kurt','q_kurt','I_zcr','Q_zcr'],axis=1)\n",
    "y=data1['modulation']"
   ],
   "metadata": {
    "collapsed": false,
    "ExecuteTime": {
     "end_time": "2024-03-21T04:28:22.940482Z",
     "start_time": "2024-03-21T04:28:22.937581Z"
    }
   },
   "id": "13100a24474b8107",
   "execution_count": 7
  },
  {
   "cell_type": "code",
   "outputs": [
    {
     "name": "stdout",
     "output_type": "stream",
     "text": [
      "(3132, 23)\n",
      "(3132,)\n"
     ]
    }
   ],
   "source": [
    "print(X.shape)\n",
    "print(y.shape)"
   ],
   "metadata": {
    "collapsed": false,
    "ExecuteTime": {
     "end_time": "2024-03-21T04:28:23.409133Z",
     "start_time": "2024-03-21T04:28:23.406497Z"
    }
   },
   "id": "2b0219f6492a3ba0",
   "execution_count": 8
  },
  {
   "cell_type": "code",
   "outputs": [],
   "source": [
    "X_train, X_test, y_train, y_test = train_test_split(X, y, test_size=0.3, random_state=42)"
   ],
   "metadata": {
    "collapsed": false,
    "ExecuteTime": {
     "end_time": "2024-03-21T04:28:23.975616Z",
     "start_time": "2024-03-21T04:28:23.972084Z"
    }
   },
   "id": "6fc94ad99a2ede80",
   "execution_count": 9
  },
  {
   "cell_type": "markdown",
   "source": [],
   "metadata": {
    "collapsed": false
   },
   "id": "4c3fb3df3301f040"
  },
  {
   "cell_type": "code",
   "outputs": [
    {
     "name": "stdout",
     "output_type": "stream",
     "text": [
      "(2192, 23)\n",
      "(2192,)\n",
      "(940, 23)\n",
      "(940,)\n"
     ]
    }
   ],
   "source": [
    "print(X_train.shape)\n",
    "print(y_train.shape)\n",
    "print(X_test.shape)\n",
    "print(y_test.shape)\n"
   ],
   "metadata": {
    "collapsed": false,
    "ExecuteTime": {
     "end_time": "2024-03-21T04:28:25.055458Z",
     "start_time": "2024-03-21T04:28:25.053370Z"
    }
   },
   "id": "6df0bdb70da24ee2",
   "execution_count": 10
  },
  {
   "cell_type": "code",
   "outputs": [
    {
     "data": {
      "text/plain": "1.0"
     },
     "execution_count": 11,
     "metadata": {},
     "output_type": "execute_result"
    }
   ],
   "source": [
    "rfc=RandomForestClassifier()\n",
    "rfc.fit(X_train,y_train)\n",
    "rfc.predict(X_test)\n",
    "rfc.score(X_test,y_test)"
   ],
   "metadata": {
    "collapsed": false,
    "ExecuteTime": {
     "end_time": "2024-03-21T04:28:25.954017Z",
     "start_time": "2024-03-21T04:28:25.777945Z"
    }
   },
   "id": "cb95a3e85b7e0534",
   "execution_count": 11
  },
  {
   "cell_type": "code",
   "outputs": [
    {
     "data": {
      "text/plain": "1.0"
     },
     "execution_count": 73,
     "metadata": {},
     "output_type": "execute_result"
    }
   ],
   "source": [
    "dtc=DecisionTreeClassifier()\n",
    "dtc.fit(X_train,y_train)\n",
    "pred_dtc=dtc.predict(X_test)\n",
    "dtc.score(X_test,y_test)\n"
   ],
   "metadata": {
    "collapsed": false,
    "ExecuteTime": {
     "end_time": "2024-03-21T03:47:03.576356Z",
     "start_time": "2024-03-21T03:47:03.562688Z"
    }
   },
   "id": "6f580ad9eeb898fd",
   "execution_count": 73
  },
  {
   "cell_type": "code",
   "outputs": [
    {
     "data": {
      "text/plain": "   Unnamed: 0    i_mean    q_mean  i_variance  q_variance    i_psd_mean  \\\n0           0 -0.000168 -0.000122    1.100034    1.100872  5.462506e-11   \n\n   i_psd_varience    q_psd_mean  q_psd_varience  I_envelope_mean  ...  \\\n0    9.418030e-20  5.465314e-11    9.435156e-20         1.381075  ...   \n\n   I_complexity_index  Q_complexity_index  I_iqr_value  Q_iqr_value  \\\n0           21.488438           21.524969     1.414637     1.415598   \n\n   I_peak_power  Q_peak_power  I_average_power  Q_average_power     I_papr  \\\n0     31.849545     29.689286         1.100034         1.100872  28.953228   \n\n      Q_papr  \n0  26.968876  \n\n[1 rows x 23 columns]",
      "text/html": "<div>\n<style scoped>\n    .dataframe tbody tr th:only-of-type {\n        vertical-align: middle;\n    }\n\n    .dataframe tbody tr th {\n        vertical-align: top;\n    }\n\n    .dataframe thead th {\n        text-align: right;\n    }\n</style>\n<table border=\"1\" class=\"dataframe\">\n  <thead>\n    <tr style=\"text-align: right;\">\n      <th></th>\n      <th>Unnamed: 0</th>\n      <th>i_mean</th>\n      <th>q_mean</th>\n      <th>i_variance</th>\n      <th>q_variance</th>\n      <th>i_psd_mean</th>\n      <th>i_psd_varience</th>\n      <th>q_psd_mean</th>\n      <th>q_psd_varience</th>\n      <th>I_envelope_mean</th>\n      <th>...</th>\n      <th>I_complexity_index</th>\n      <th>Q_complexity_index</th>\n      <th>I_iqr_value</th>\n      <th>Q_iqr_value</th>\n      <th>I_peak_power</th>\n      <th>Q_peak_power</th>\n      <th>I_average_power</th>\n      <th>Q_average_power</th>\n      <th>I_papr</th>\n      <th>Q_papr</th>\n    </tr>\n  </thead>\n  <tbody>\n    <tr>\n      <th>0</th>\n      <td>0</td>\n      <td>-0.000168</td>\n      <td>-0.000122</td>\n      <td>1.100034</td>\n      <td>1.100872</td>\n      <td>5.462506e-11</td>\n      <td>9.418030e-20</td>\n      <td>5.465314e-11</td>\n      <td>9.435156e-20</td>\n      <td>1.381075</td>\n      <td>...</td>\n      <td>21.488438</td>\n      <td>21.524969</td>\n      <td>1.414637</td>\n      <td>1.415598</td>\n      <td>31.849545</td>\n      <td>29.689286</td>\n      <td>1.100034</td>\n      <td>1.100872</td>\n      <td>28.953228</td>\n      <td>26.968876</td>\n    </tr>\n  </tbody>\n</table>\n<p>1 rows × 23 columns</p>\n</div>"
     },
     "execution_count": 22,
     "metadata": {},
     "output_type": "execute_result"
    }
   ],
   "source": [
    "demo=pd.read_csv('modulation_demo.csv')\n",
    "demo=demo.drop(['modulation','i_skewness','q_skewness','i_kurt','q_kurt','I_zcr','Q_zcr'],axis=1)\n",
    "demo.head()"
   ],
   "metadata": {
    "collapsed": false,
    "ExecuteTime": {
     "end_time": "2024-03-21T05:09:57.954247Z",
     "start_time": "2024-03-21T05:09:57.944363Z"
    }
   },
   "id": "427b7642b9d0a6f8",
   "execution_count": 22
  },
  {
   "cell_type": "code",
   "outputs": [
    {
     "data": {
      "text/plain": "array(['BPSK'], dtype=object)"
     },
     "execution_count": 23,
     "metadata": {},
     "output_type": "execute_result"
    }
   ],
   "source": [
    "rfc.predict(demo)"
   ],
   "metadata": {
    "collapsed": false,
    "ExecuteTime": {
     "end_time": "2024-03-21T05:09:59.945339Z",
     "start_time": "2024-03-21T05:09:59.937495Z"
    }
   },
   "id": "dc0cda29a28e970e",
   "execution_count": 23
  },
  {
   "cell_type": "code",
   "outputs": [],
   "source": [],
   "metadata": {
    "collapsed": false
   },
   "id": "80490479d83de22f"
  }
 ],
 "metadata": {
  "kernelspec": {
   "display_name": "Python 3",
   "language": "python",
   "name": "python3"
  },
  "language_info": {
   "codemirror_mode": {
    "name": "ipython",
    "version": 2
   },
   "file_extension": ".py",
   "mimetype": "text/x-python",
   "name": "python",
   "nbconvert_exporter": "python",
   "pygments_lexer": "ipython2",
   "version": "2.7.6"
  }
 },
 "nbformat": 4,
 "nbformat_minor": 5
}
